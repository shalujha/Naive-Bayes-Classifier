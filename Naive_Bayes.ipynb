{
 "cells": [
  {
   "cell_type": "markdown",
   "metadata": {},
   "source": [
    "# Naive Bayes - Mushroom Dataset\n",
    "- Goal is to predict the class of mushrooms, given some features of the mushrooms. We will use Naive Bayes Classification for this classification"
   ]
  },
  {
   "cell_type": "markdown",
   "metadata": {},
   "source": [
    "# Load the dataset"
   ]
  },
  {
   "cell_type": "code",
   "execution_count": 1,
   "metadata": {},
   "outputs": [],
   "source": [
    "import numpy as np\n",
    "import pandas as pd"
   ]
  },
  {
   "cell_type": "code",
   "execution_count": 3,
   "metadata": {},
   "outputs": [
    {
     "name": "stdout",
     "output_type": "stream",
     "text": [
      "  type cap_shape cap_surface cap_color bruises odor gill_attachment  \\\n",
      "0    p         x           s         n       t    p               f   \n",
      "1    e         x           s         y       t    a               f   \n",
      "2    e         b           s         w       t    l               f   \n",
      "3    p         x           y         w       t    p               f   \n",
      "4    e         x           s         g       f    n               f   \n",
      "\n",
      "  gill_spacing gill_size gill_color  ... stalk_surface_below_ring  \\\n",
      "0            c         n          k  ...                        s   \n",
      "1            c         b          k  ...                        s   \n",
      "2            c         b          n  ...                        s   \n",
      "3            c         n          n  ...                        s   \n",
      "4            w         b          k  ...                        s   \n",
      "\n",
      "  stalk_color_above_ring stalk_color_below_ring veil_type veil_color  \\\n",
      "0                      w                      w         p          w   \n",
      "1                      w                      w         p          w   \n",
      "2                      w                      w         p          w   \n",
      "3                      w                      w         p          w   \n",
      "4                      w                      w         p          w   \n",
      "\n",
      "  ring_number ring_type spore_print_color population habitat  \n",
      "0           o         p                 k          s       u  \n",
      "1           o         p                 n          n       g  \n",
      "2           o         p                 n          n       m  \n",
      "3           o         p                 k          s       u  \n",
      "4           o         e                 n          a       g  \n",
      "\n",
      "[5 rows x 23 columns]\n"
     ]
    }
   ],
   "source": [
    "df=pd.read_csv('mushrooms.csv')\n",
    "print(df.head())"
   ]
  },
  {
   "cell_type": "code",
   "execution_count": 4,
   "metadata": {},
   "outputs": [
    {
     "name": "stdout",
     "output_type": "stream",
     "text": [
      "(8124, 23)\n"
     ]
    }
   ],
   "source": [
    "print(df.shape)"
   ]
  },
  {
   "cell_type": "markdown",
   "metadata": {},
   "source": [
    "# Encode the Categorical data into numerical data"
   ]
  },
  {
   "cell_type": "code",
   "execution_count": 5,
   "metadata": {},
   "outputs": [],
   "source": [
    "from sklearn.preprocessing import LabelEncoder\n",
    "from sklearn.model_selection import train_test_split"
   ]
  },
  {
   "cell_type": "code",
   "execution_count": 8,
   "metadata": {},
   "outputs": [],
   "source": [
    "le=LabelEncoder()\n",
    "df=df.apply(le.fit_transform)"
   ]
  },
  {
   "cell_type": "code",
   "execution_count": 9,
   "metadata": {},
   "outputs": [
    {
     "name": "stdout",
     "output_type": "stream",
     "text": [
      "<class 'pandas.core.frame.DataFrame'>\n"
     ]
    }
   ],
   "source": [
    "print(type(df))"
   ]
  },
  {
   "cell_type": "code",
   "execution_count": 14,
   "metadata": {},
   "outputs": [
    {
     "name": "stdout",
     "output_type": "stream",
     "text": [
      "   type  cap_shape  cap_surface  cap_color  bruises  odor  gill_attachment  \\\n",
      "0     1          5            2          4        1     6                1   \n",
      "1     0          5            2          9        1     0                1   \n",
      "2     0          0            2          8        1     3                1   \n",
      "3     1          5            3          8        1     6                1   \n",
      "4     0          5            2          3        0     5                1   \n",
      "\n",
      "   gill_spacing  gill_size  gill_color  ...  stalk_surface_below_ring  \\\n",
      "0             0          1           4  ...                         2   \n",
      "1             0          0           4  ...                         2   \n",
      "2             0          0           5  ...                         2   \n",
      "3             0          1           5  ...                         2   \n",
      "4             1          0           4  ...                         2   \n",
      "\n",
      "   stalk_color_above_ring  stalk_color_below_ring  veil_type  veil_color  \\\n",
      "0                       7                       7          0           2   \n",
      "1                       7                       7          0           2   \n",
      "2                       7                       7          0           2   \n",
      "3                       7                       7          0           2   \n",
      "4                       7                       7          0           2   \n",
      "\n",
      "   ring_number  ring_type  spore_print_color  population  habitat  \n",
      "0            1          4                  2           3        5  \n",
      "1            1          4                  3           2        1  \n",
      "2            1          4                  3           2        3  \n",
      "3            1          4                  2           3        5  \n",
      "4            1          0                  3           0        1  \n",
      "\n",
      "[5 rows x 23 columns]\n"
     ]
    }
   ],
   "source": [
    "print(df.head())"
   ]
  },
  {
   "cell_type": "code",
   "execution_count": 15,
   "metadata": {},
   "outputs": [
    {
     "name": "stdout",
     "output_type": "stream",
     "text": [
      "<class 'numpy.ndarray'>\n",
      "(8124, 23)\n"
     ]
    }
   ],
   "source": [
    "data=df.values\n",
    "print(type(data))\n",
    "print(data.shape)"
   ]
  },
  {
   "cell_type": "code",
   "execution_count": 16,
   "metadata": {},
   "outputs": [],
   "source": [
    "data_x=data[:,1:]\n",
    "data_y=data[:,0]"
   ]
  },
  {
   "cell_type": "code",
   "execution_count": 17,
   "metadata": {},
   "outputs": [],
   "source": [
    "x_train,x_test,y_train,y_test=train_test_split(data_x,data_y,test_size=0.2)"
   ]
  },
  {
   "cell_type": "code",
   "execution_count": 18,
   "metadata": {},
   "outputs": [
    {
     "name": "stdout",
     "output_type": "stream",
     "text": [
      "(6499, 22) (6499,)\n",
      "(1625, 22) (1625,)\n"
     ]
    }
   ],
   "source": [
    "print(x_train.shape,y_train.shape)\n",
    "print(x_test.shape,y_test.shape)"
   ]
  },
  {
   "cell_type": "code",
   "execution_count": 20,
   "metadata": {},
   "outputs": [
    {
     "name": "stdout",
     "output_type": "stream",
     "text": [
      "[0 1]\n"
     ]
    }
   ],
   "source": [
    "print(np.unique(y_train))"
   ]
  },
  {
   "cell_type": "markdown",
   "metadata": {},
   "source": [
    "# Building our classifier"
   ]
  },
  {
   "cell_type": "code",
   "execution_count": 35,
   "metadata": {},
   "outputs": [],
   "source": [
    "def prior_probability(Y_train,label):\n",
    "    total_examples=Y_train.shape[0]\n",
    "    class_examples=np.sum(Y_train==label)\n",
    "    return class_examples/float(total_examples)\n",
    "def cond_probab(X_train,Y_train,featured_col,featured_val,label):\n",
    "    filtered_X=X_train[Y_train==label]\n",
    "    numerator=np.sum(filtered_X[:,featured_col]==featured_val)\n",
    "    denominator=np.sum(Y_train==label)\n",
    "    return numerator/float(denominator)\n",
    "def predict(x_train,y_train,x_test):\n",
    "    n_features=x_train.shape[1]\n",
    "    n_classes=np.unique(y_train)\n",
    "    post_probabs=[]\n",
    "    for labels in n_classes:\n",
    "        liklihood=1.0\n",
    "        for f in range(n_features):\n",
    "            cond=cond_probab(x_train,y_train,f,x_test[f],labels)\n",
    "            liklihood*=cond\n",
    "        prior=prior_probability(y_train,labels)\n",
    "        posterior=prior*liklihood\n",
    "        post_probabs.append(posterior)\n",
    "    pred=np.argmax(post_probabs)\n",
    "    return pred   "
   ]
  },
  {
   "cell_type": "code",
   "execution_count": 42,
   "metadata": {},
   "outputs": [
    {
     "name": "stdout",
     "output_type": "stream",
     "text": [
      "1\n",
      "1\n"
     ]
    }
   ],
   "source": [
    "output=predict(x_train,y_train,x_test[15])\n",
    "print(output)\n",
    "print(y_test[15])"
   ]
  },
  {
   "cell_type": "code",
   "execution_count": 44,
   "metadata": {},
   "outputs": [],
   "source": [
    "def score(x_train,y_train,x_test,y_test):\n",
    "    pred=[]\n",
    "    for i in range(x_test.shape[0]):\n",
    "        pred_labels=predict(x_train,y_train,x_test[i])\n",
    "        pred.append(pred_labels)\n",
    "    pred=np.array(pred)\n",
    "    accuracy=np.sum(pred==y_test)/y_test.shape[0]\n",
    "    return accuracy"
   ]
  },
  {
   "cell_type": "code",
   "execution_count": 45,
   "metadata": {},
   "outputs": [
    {
     "name": "stdout",
     "output_type": "stream",
     "text": [
      "0.9963076923076923\n"
     ]
    }
   ],
   "source": [
    "print(score(x_train,y_train,x_test,y_test))"
   ]
  },
  {
   "cell_type": "code",
   "execution_count": null,
   "metadata": {},
   "outputs": [],
   "source": []
  },
  {
   "cell_type": "code",
   "execution_count": null,
   "metadata": {},
   "outputs": [],
   "source": []
  },
  {
   "cell_type": "code",
   "execution_count": null,
   "metadata": {},
   "outputs": [],
   "source": []
  }
 ],
 "metadata": {
  "kernelspec": {
   "display_name": "Python 3",
   "language": "python",
   "name": "python3"
  },
  "language_info": {
   "codemirror_mode": {
    "name": "ipython",
    "version": 3
   },
   "file_extension": ".py",
   "mimetype": "text/x-python",
   "name": "python",
   "nbconvert_exporter": "python",
   "pygments_lexer": "ipython3",
   "version": "3.6.8"
  }
 },
 "nbformat": 4,
 "nbformat_minor": 2
}
